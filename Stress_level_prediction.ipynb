{
 "cells": [
  {
   "cell_type": "markdown",
   "id": "99d5dfc2",
   "metadata": {},
   "source": [
    "# Importing Libraries"
   ]
  },
  {
   "cell_type": "code",
   "execution_count": 1,
   "id": "003ea497",
   "metadata": {},
   "outputs": [],
   "source": [
    "import pandas as pd\n",
    "import numpy as np\n",
    "import seaborn as sns\n",
    "import matplotlib.pyplot as plt\n",
    "import scipy"
   ]
  },
  {
   "cell_type": "markdown",
   "id": "01b65d60",
   "metadata": {},
   "source": [
    "# Reading DataSet"
   ]
  },
  {
   "cell_type": "code",
   "execution_count": 2,
   "id": "c231bfac",
   "metadata": {},
   "outputs": [
    {
     "data": {
      "text/html": [
       "<div>\n",
       "<style scoped>\n",
       "    .dataframe tbody tr th:only-of-type {\n",
       "        vertical-align: middle;\n",
       "    }\n",
       "\n",
       "    .dataframe tbody tr th {\n",
       "        vertical-align: top;\n",
       "    }\n",
       "\n",
       "    .dataframe thead th {\n",
       "        text-align: right;\n",
       "    }\n",
       "</style>\n",
       "<table border=\"1\" class=\"dataframe\">\n",
       "  <thead>\n",
       "    <tr style=\"text-align: right;\">\n",
       "      <th></th>\n",
       "      <th>snoring rate</th>\n",
       "      <th>respiration rate</th>\n",
       "      <th>body temperature</th>\n",
       "      <th>limb movement</th>\n",
       "      <th>blood oxygen</th>\n",
       "      <th>eye movement</th>\n",
       "      <th>sleeping hours</th>\n",
       "      <th>heart rate</th>\n",
       "      <th>stress level</th>\n",
       "    </tr>\n",
       "  </thead>\n",
       "  <tbody>\n",
       "    <tr>\n",
       "      <th>51</th>\n",
       "      <td>53.60</td>\n",
       "      <td>18.720</td>\n",
       "      <td>94.720</td>\n",
       "      <td>8.720</td>\n",
       "      <td>93.080</td>\n",
       "      <td>81.80</td>\n",
       "      <td>5.720</td>\n",
       "      <td>56.80</td>\n",
       "      <td>1</td>\n",
       "    </tr>\n",
       "    <tr>\n",
       "      <th>198</th>\n",
       "      <td>67.36</td>\n",
       "      <td>20.736</td>\n",
       "      <td>92.736</td>\n",
       "      <td>10.736</td>\n",
       "      <td>90.736</td>\n",
       "      <td>88.68</td>\n",
       "      <td>3.104</td>\n",
       "      <td>61.84</td>\n",
       "      <td>2</td>\n",
       "    </tr>\n",
       "    <tr>\n",
       "      <th>50</th>\n",
       "      <td>49.60</td>\n",
       "      <td>17.840</td>\n",
       "      <td>98.760</td>\n",
       "      <td>7.680</td>\n",
       "      <td>96.840</td>\n",
       "      <td>78.40</td>\n",
       "      <td>8.840</td>\n",
       "      <td>54.60</td>\n",
       "      <td>0</td>\n",
       "    </tr>\n",
       "    <tr>\n",
       "      <th>154</th>\n",
       "      <td>49.00</td>\n",
       "      <td>17.600</td>\n",
       "      <td>98.400</td>\n",
       "      <td>7.200</td>\n",
       "      <td>96.600</td>\n",
       "      <td>76.00</td>\n",
       "      <td>8.600</td>\n",
       "      <td>54.00</td>\n",
       "      <td>0</td>\n",
       "    </tr>\n",
       "    <tr>\n",
       "      <th>55</th>\n",
       "      <td>75.68</td>\n",
       "      <td>21.568</td>\n",
       "      <td>93.568</td>\n",
       "      <td>11.568</td>\n",
       "      <td>91.568</td>\n",
       "      <td>92.84</td>\n",
       "      <td>4.352</td>\n",
       "      <td>63.92</td>\n",
       "      <td>2</td>\n",
       "    </tr>\n",
       "  </tbody>\n",
       "</table>\n",
       "</div>"
      ],
      "text/plain": [
       "     snoring rate  respiration rate  body temperature  limb movement  \\\n",
       "51          53.60            18.720            94.720          8.720   \n",
       "198         67.36            20.736            92.736         10.736   \n",
       "50          49.60            17.840            98.760          7.680   \n",
       "154         49.00            17.600            98.400          7.200   \n",
       "55          75.68            21.568            93.568         11.568   \n",
       "\n",
       "     blood oxygen  eye movement  sleeping hours  heart rate  stress level  \n",
       "51         93.080         81.80           5.720       56.80             1  \n",
       "198        90.736         88.68           3.104       61.84             2  \n",
       "50         96.840         78.40           8.840       54.60             0  \n",
       "154        96.600         76.00           8.600       54.00             0  \n",
       "55         91.568         92.84           4.352       63.92             2  "
      ]
     },
     "execution_count": 2,
     "metadata": {},
     "output_type": "execute_result"
    }
   ],
   "source": [
    "df=pd.read_csv(\"D:\\Data Analysis & Python\\Project Datasets\\SaYoPillow.csv\")\n",
    "df.sample(5)"
   ]
  },
  {
   "cell_type": "code",
   "execution_count": 3,
   "id": "c6af9f10",
   "metadata": {},
   "outputs": [
    {
     "data": {
      "text/plain": [
       "(630, 9)"
      ]
     },
     "execution_count": 3,
     "metadata": {},
     "output_type": "execute_result"
    }
   ],
   "source": [
    "df.shape"
   ]
  },
  {
   "cell_type": "raw",
   "id": "e96c0d5f",
   "metadata": {},
   "source": [
    "Stress Levels (0- low/normal, 1 – medium low, 2- medium, 3-medium high, 4 -high)"
   ]
  },
  {
   "cell_type": "markdown",
   "id": "d3f09830",
   "metadata": {},
   "source": [
    "# Data Cleaning"
   ]
  },
  {
   "cell_type": "raw",
   "id": "2875295a",
   "metadata": {},
   "source": [
    "In Data Cleaning we have to look for :- 1) Missing Data 2) Outliers 3) Duplicates"
   ]
  },
  {
   "cell_type": "markdown",
   "id": "3ef0d660",
   "metadata": {},
   "source": [
    "## Statistical Summary"
   ]
  },
  {
   "cell_type": "code",
   "execution_count": 4,
   "id": "be2bf785",
   "metadata": {},
   "outputs": [
    {
     "data": {
      "text/html": [
       "<div>\n",
       "<style scoped>\n",
       "    .dataframe tbody tr th:only-of-type {\n",
       "        vertical-align: middle;\n",
       "    }\n",
       "\n",
       "    .dataframe tbody tr th {\n",
       "        vertical-align: top;\n",
       "    }\n",
       "\n",
       "    .dataframe thead th {\n",
       "        text-align: right;\n",
       "    }\n",
       "</style>\n",
       "<table border=\"1\" class=\"dataframe\">\n",
       "  <thead>\n",
       "    <tr style=\"text-align: right;\">\n",
       "      <th></th>\n",
       "      <th>count</th>\n",
       "      <th>mean</th>\n",
       "      <th>std</th>\n",
       "      <th>min</th>\n",
       "      <th>25%</th>\n",
       "      <th>50%</th>\n",
       "      <th>75%</th>\n",
       "      <th>max</th>\n",
       "    </tr>\n",
       "  </thead>\n",
       "  <tbody>\n",
       "    <tr>\n",
       "      <th>snoring rate</th>\n",
       "      <td>630.0</td>\n",
       "      <td>71.6</td>\n",
       "      <td>19.372833</td>\n",
       "      <td>45.0</td>\n",
       "      <td>52.50</td>\n",
       "      <td>70.0</td>\n",
       "      <td>91.25</td>\n",
       "      <td>100.0</td>\n",
       "    </tr>\n",
       "    <tr>\n",
       "      <th>respiration rate</th>\n",
       "      <td>630.0</td>\n",
       "      <td>21.8</td>\n",
       "      <td>3.966111</td>\n",
       "      <td>16.0</td>\n",
       "      <td>18.50</td>\n",
       "      <td>21.0</td>\n",
       "      <td>25.00</td>\n",
       "      <td>30.0</td>\n",
       "    </tr>\n",
       "    <tr>\n",
       "      <th>body temperature</th>\n",
       "      <td>630.0</td>\n",
       "      <td>92.8</td>\n",
       "      <td>3.529690</td>\n",
       "      <td>85.0</td>\n",
       "      <td>90.50</td>\n",
       "      <td>93.0</td>\n",
       "      <td>95.50</td>\n",
       "      <td>99.0</td>\n",
       "    </tr>\n",
       "    <tr>\n",
       "      <th>limb movement</th>\n",
       "      <td>630.0</td>\n",
       "      <td>11.7</td>\n",
       "      <td>4.299629</td>\n",
       "      <td>4.0</td>\n",
       "      <td>8.50</td>\n",
       "      <td>11.0</td>\n",
       "      <td>15.75</td>\n",
       "      <td>19.0</td>\n",
       "    </tr>\n",
       "    <tr>\n",
       "      <th>blood oxygen</th>\n",
       "      <td>630.0</td>\n",
       "      <td>90.9</td>\n",
       "      <td>3.902483</td>\n",
       "      <td>82.0</td>\n",
       "      <td>88.50</td>\n",
       "      <td>91.0</td>\n",
       "      <td>94.25</td>\n",
       "      <td>97.0</td>\n",
       "    </tr>\n",
       "    <tr>\n",
       "      <th>eye movement</th>\n",
       "      <td>630.0</td>\n",
       "      <td>88.5</td>\n",
       "      <td>11.893747</td>\n",
       "      <td>60.0</td>\n",
       "      <td>81.25</td>\n",
       "      <td>90.0</td>\n",
       "      <td>98.75</td>\n",
       "      <td>105.0</td>\n",
       "    </tr>\n",
       "    <tr>\n",
       "      <th>sleeping hours</th>\n",
       "      <td>630.0</td>\n",
       "      <td>3.7</td>\n",
       "      <td>3.054572</td>\n",
       "      <td>0.0</td>\n",
       "      <td>0.50</td>\n",
       "      <td>3.5</td>\n",
       "      <td>6.50</td>\n",
       "      <td>9.0</td>\n",
       "    </tr>\n",
       "    <tr>\n",
       "      <th>heart rate</th>\n",
       "      <td>630.0</td>\n",
       "      <td>64.5</td>\n",
       "      <td>9.915277</td>\n",
       "      <td>50.0</td>\n",
       "      <td>56.25</td>\n",
       "      <td>62.5</td>\n",
       "      <td>72.50</td>\n",
       "      <td>85.0</td>\n",
       "    </tr>\n",
       "    <tr>\n",
       "      <th>stress level</th>\n",
       "      <td>630.0</td>\n",
       "      <td>2.0</td>\n",
       "      <td>1.415337</td>\n",
       "      <td>0.0</td>\n",
       "      <td>1.00</td>\n",
       "      <td>2.0</td>\n",
       "      <td>3.00</td>\n",
       "      <td>4.0</td>\n",
       "    </tr>\n",
       "  </tbody>\n",
       "</table>\n",
       "</div>"
      ],
      "text/plain": [
       "                  count  mean        std   min    25%   50%    75%    max\n",
       "snoring rate      630.0  71.6  19.372833  45.0  52.50  70.0  91.25  100.0\n",
       "respiration rate  630.0  21.8   3.966111  16.0  18.50  21.0  25.00   30.0\n",
       "body temperature  630.0  92.8   3.529690  85.0  90.50  93.0  95.50   99.0\n",
       "limb movement     630.0  11.7   4.299629   4.0   8.50  11.0  15.75   19.0\n",
       "blood oxygen      630.0  90.9   3.902483  82.0  88.50  91.0  94.25   97.0\n",
       "eye movement      630.0  88.5  11.893747  60.0  81.25  90.0  98.75  105.0\n",
       "sleeping hours    630.0   3.7   3.054572   0.0   0.50   3.5   6.50    9.0\n",
       "heart rate        630.0  64.5   9.915277  50.0  56.25  62.5  72.50   85.0\n",
       "stress level      630.0   2.0   1.415337   0.0   1.00   2.0   3.00    4.0"
      ]
     },
     "execution_count": 4,
     "metadata": {},
     "output_type": "execute_result"
    }
   ],
   "source": [
    "df.describe().T"
   ]
  },
  {
   "cell_type": "markdown",
   "id": "5f31d791",
   "metadata": {},
   "source": [
    "### Missing Data"
   ]
  },
  {
   "cell_type": "code",
   "execution_count": 5,
   "id": "8baba647",
   "metadata": {
    "scrolled": true
   },
   "outputs": [
    {
     "data": {
      "text/plain": [
       "snoring rate        0\n",
       "respiration rate    0\n",
       "body temperature    0\n",
       "limb movement       0\n",
       "blood oxygen        0\n",
       "eye movement        0\n",
       "sleeping hours      0\n",
       "heart rate          0\n",
       "stress level        0\n",
       "dtype: int64"
      ]
     },
     "execution_count": 5,
     "metadata": {},
     "output_type": "execute_result"
    }
   ],
   "source": [
    "df.isna().sum().sort_values()"
   ]
  },
  {
   "cell_type": "markdown",
   "id": "365a911e",
   "metadata": {},
   "source": [
    "The data here is free of missing data"
   ]
  },
  {
   "cell_type": "markdown",
   "id": "b88689f3",
   "metadata": {},
   "source": [
    "### Outliers"
   ]
  },
  {
   "cell_type": "code",
   "execution_count": 6,
   "id": "8ef3913c",
   "metadata": {},
   "outputs": [
    {
     "data": {
      "text/plain": [
       "Index(['snoring rate', 'respiration rate', 'body temperature', 'limb movement',\n",
       "       'blood oxygen', 'eye movement', 'sleeping hours', 'heart rate',\n",
       "       'stress level'],\n",
       "      dtype='object')"
      ]
     },
     "execution_count": 6,
     "metadata": {},
     "output_type": "execute_result"
    }
   ],
   "source": [
    "df.columns"
   ]
  },
  {
   "cell_type": "code",
   "execution_count": 7,
   "id": "32f39218",
   "metadata": {
    "scrolled": false
   },
   "outputs": [
    {
     "data": {
      "image/png": "[encoded data removed]",
      "text/plain": [
       "<Figure size 1080x360 with 1 Axes>"
      ]
     },
     "metadata": {
      "needs_background": "light"
     },
     "output_type": "display_data"
    }
   ],
   "source": [
    "boxplot = df.boxplot(column=['snoring rate', 'respiration rate', 'body temperature', 'limb movement',\n",
    "       'blood oxygen', 'eye movement', 'sleeping hours', 'heart rate'],figsize=(15,5))"
   ]
  },
  {
   "cell_type": "code",
   "execution_count": 8,
   "id": "15916733",
   "metadata": {},
   "outputs": [
    {
     "data": {
      "image/png": "[encoded data removed]",
      "text/plain": [
       "<Figure size 1296x720 with 9 Axes>"
      ]
     },
     "metadata": {
      "needs_background": "light"
     },
     "output_type": "display_data"
    }
   ],
   "source": [
    "histplot = df.hist(column=['snoring rate', 'respiration rate', 'body temperature', 'limb movement',\n",
    "       'blood oxygen', 'eye movement', 'sleeping hours', 'heart rate'],figsize=(18,10))"
   ]
  },
  {
   "cell_type": "markdown",
   "id": "d7d5e6b3",
   "metadata": {},
   "source": [
    "From this we can see we dont have any outliers in the data"
   ]
  },
  {
   "cell_type": "markdown",
   "id": "65c9cd41",
   "metadata": {},
   "source": [
    "### Duplicates"
   ]
  },
  {
   "cell_type": "code",
   "execution_count": 9,
   "id": "5d4f39d4",
   "metadata": {},
   "outputs": [
    {
     "data": {
      "text/plain": [
       "0"
      ]
     },
     "execution_count": 9,
     "metadata": {},
     "output_type": "execute_result"
    }
   ],
   "source": [
    "df.duplicated().sum()"
   ]
  },
  {
   "cell_type": "markdown",
   "id": "79776233",
   "metadata": {},
   "source": [
    "We dont have any duplicates in the data"
   ]
  },
  {
   "cell_type": "markdown",
   "id": "315ca5de",
   "metadata": {},
   "source": [
    "# EDA "
   ]
  },
  {
   "cell_type": "markdown",
   "id": "e962e2b6",
   "metadata": {},
   "source": [
    "## Feature Scaling"
   ]
  },
  {
   "cell_type": "raw",
   "id": "2d53a0ea",
   "metadata": {},
   "source": [
    "The data we have are not on same scale. So bringing them on the same scale."
   ]
  },
  {
   "cell_type": "code",
   "execution_count": 10,
   "id": "2bef23e1",
   "metadata": {},
   "outputs": [
    {
     "name": "stdout",
     "output_type": "stream",
     "text": [
      "[[0.88727273 0.69142857 0.48857143 ... 0.88       0.20444444 0.69142857]\n",
      " [0.848      0.65028571 0.468      ... 0.864      0.17244444 0.65028571]\n",
      " [0.27272727 0.28571429 0.78571429 ... 0.55555556 0.77777778 0.28571429]\n",
      " ...\n",
      " [0.95461818 0.82171429 0.13428571 ... 0.93066667 0.         0.82171429]\n",
      " [0.248      0.26628571 0.76628571 ... 0.54044444 0.74755556 0.26628571]\n",
      " [0.52581818 0.38514286 0.59942857 ... 0.71022222 0.45422222 0.38514286]]\n"
     ]
    }
   ],
   "source": [
    "#importing library \n",
    "from sklearn.preprocessing import MinMaxScaler\n",
    "#Defining varible\n",
    "scaler = MinMaxScaler()\n",
    "# transform data\n",
    "scaled = scaler.fit_transform(df[['snoring rate', 'respiration rate', 'body temperature', 'limb movement',\n",
    "       'blood oxygen', 'eye movement', 'sleeping hours','heart rate']])\n",
    "print(scaled)"
   ]
  },
  {
   "cell_type": "code",
   "execution_count": 11,
   "id": "8686f2f1",
   "metadata": {},
   "outputs": [],
   "source": [
    "newdf = pd.DataFrame(scaled, columns =['snoring rate', 'respiration rate', 'body temperature', 'limb movement',\n",
    "       'blood oxygen', 'eye movement', 'sleeping hours', 'heart rate'])"
   ]
  },
  {
   "cell_type": "code",
   "execution_count": 12,
   "id": "283f0ed5",
   "metadata": {},
   "outputs": [
    {
     "data": {
      "text/html": [
       "<div>\n",
       "<style scoped>\n",
       "    .dataframe tbody tr th:only-of-type {\n",
       "        vertical-align: middle;\n",
       "    }\n",
       "\n",
       "    .dataframe tbody tr th {\n",
       "        vertical-align: top;\n",
       "    }\n",
       "\n",
       "    .dataframe thead th {\n",
       "        text-align: right;\n",
       "    }\n",
       "</style>\n",
       "<table border=\"1\" class=\"dataframe\">\n",
       "  <thead>\n",
       "    <tr style=\"text-align: right;\">\n",
       "      <th></th>\n",
       "      <th>snoring rate</th>\n",
       "      <th>respiration rate</th>\n",
       "      <th>body temperature</th>\n",
       "      <th>limb movement</th>\n",
       "      <th>blood oxygen</th>\n",
       "      <th>eye movement</th>\n",
       "      <th>sleeping hours</th>\n",
       "      <th>heart rate</th>\n",
       "    </tr>\n",
       "  </thead>\n",
       "  <tbody>\n",
       "    <tr>\n",
       "      <th>0</th>\n",
       "      <td>0.887273</td>\n",
       "      <td>0.691429</td>\n",
       "      <td>0.488571</td>\n",
       "      <td>0.840000</td>\n",
       "      <td>0.522667</td>\n",
       "      <td>0.880000</td>\n",
       "      <td>0.204444</td>\n",
       "      <td>0.691429</td>\n",
       "    </tr>\n",
       "    <tr>\n",
       "      <th>1</th>\n",
       "      <td>0.848000</td>\n",
       "      <td>0.650286</td>\n",
       "      <td>0.468000</td>\n",
       "      <td>0.792000</td>\n",
       "      <td>0.503467</td>\n",
       "      <td>0.864000</td>\n",
       "      <td>0.172444</td>\n",
       "      <td>0.650286</td>\n",
       "    </tr>\n",
       "    <tr>\n",
       "      <th>2</th>\n",
       "      <td>0.272727</td>\n",
       "      <td>0.285714</td>\n",
       "      <td>0.785714</td>\n",
       "      <td>0.400000</td>\n",
       "      <td>0.866667</td>\n",
       "      <td>0.555556</td>\n",
       "      <td>0.777778</td>\n",
       "      <td>0.285714</td>\n",
       "    </tr>\n",
       "    <tr>\n",
       "      <th>3</th>\n",
       "      <td>0.741091</td>\n",
       "      <td>0.538286</td>\n",
       "      <td>0.412000</td>\n",
       "      <td>0.661333</td>\n",
       "      <td>0.451200</td>\n",
       "      <td>0.820444</td>\n",
       "      <td>0.085333</td>\n",
       "      <td>0.538286</td>\n",
       "    </tr>\n",
       "    <tr>\n",
       "      <th>4</th>\n",
       "      <td>0.056727</td>\n",
       "      <td>0.089143</td>\n",
       "      <td>0.919429</td>\n",
       "      <td>0.166400</td>\n",
       "      <td>0.949867</td>\n",
       "      <td>0.277333</td>\n",
       "      <td>0.916444</td>\n",
       "      <td>0.089143</td>\n",
       "    </tr>\n",
       "  </tbody>\n",
       "</table>\n",
       "</div>"
      ],
      "text/plain": [
       "   snoring rate  respiration rate  body temperature  limb movement  \\\n",
       "0      0.887273          0.691429          0.488571       0.840000   \n",
       "1      0.848000          0.650286          0.468000       0.792000   \n",
       "2      0.272727          0.285714          0.785714       0.400000   \n",
       "3      0.741091          0.538286          0.412000       0.661333   \n",
       "4      0.056727          0.089143          0.919429       0.166400   \n",
       "\n",
       "   blood oxygen  eye movement  sleeping hours  heart rate  \n",
       "0      0.522667      0.880000        0.204444    0.691429  \n",
       "1      0.503467      0.864000        0.172444    0.650286  \n",
       "2      0.866667      0.555556        0.777778    0.285714  \n",
       "3      0.451200      0.820444        0.085333    0.538286  \n",
       "4      0.949867      0.277333        0.916444    0.089143  "
      ]
     },
     "execution_count": 12,
     "metadata": {},
     "output_type": "execute_result"
    }
   ],
   "source": [
    "newdf.head()"
   ]
  },
  {
   "cell_type": "code",
   "execution_count": 13,
   "id": "55059c80",
   "metadata": {},
   "outputs": [],
   "source": [
    "newdf['stress level']=df['stress level']"
   ]
  },
  {
   "cell_type": "code",
   "execution_count": 14,
   "id": "e5101913",
   "metadata": {},
   "outputs": [
    {
     "data": {
      "text/html": [
       "<div>\n",
       "<style scoped>\n",
       "    .dataframe tbody tr th:only-of-type {\n",
       "        vertical-align: middle;\n",
       "    }\n",
       "\n",
       "    .dataframe tbody tr th {\n",
       "        vertical-align: top;\n",
       "    }\n",
       "\n",
       "    .dataframe thead th {\n",
       "        text-align: right;\n",
       "    }\n",
       "</style>\n",
       "<table border=\"1\" class=\"dataframe\">\n",
       "  <thead>\n",
       "    <tr style=\"text-align: right;\">\n",
       "      <th></th>\n",
       "      <th>snoring rate</th>\n",
       "      <th>respiration rate</th>\n",
       "      <th>body temperature</th>\n",
       "      <th>limb movement</th>\n",
       "      <th>blood oxygen</th>\n",
       "      <th>eye movement</th>\n",
       "      <th>sleeping hours</th>\n",
       "      <th>heart rate</th>\n",
       "      <th>stress level</th>\n",
       "    </tr>\n",
       "  </thead>\n",
       "  <tbody>\n",
       "    <tr>\n",
       "      <th>0</th>\n",
       "      <td>0.887273</td>\n",
       "      <td>0.691429</td>\n",
       "      <td>0.488571</td>\n",
       "      <td>0.840000</td>\n",
       "      <td>0.522667</td>\n",
       "      <td>0.880000</td>\n",
       "      <td>0.204444</td>\n",
       "      <td>0.691429</td>\n",
       "      <td>3</td>\n",
       "    </tr>\n",
       "    <tr>\n",
       "      <th>1</th>\n",
       "      <td>0.848000</td>\n",
       "      <td>0.650286</td>\n",
       "      <td>0.468000</td>\n",
       "      <td>0.792000</td>\n",
       "      <td>0.503467</td>\n",
       "      <td>0.864000</td>\n",
       "      <td>0.172444</td>\n",
       "      <td>0.650286</td>\n",
       "      <td>3</td>\n",
       "    </tr>\n",
       "    <tr>\n",
       "      <th>2</th>\n",
       "      <td>0.272727</td>\n",
       "      <td>0.285714</td>\n",
       "      <td>0.785714</td>\n",
       "      <td>0.400000</td>\n",
       "      <td>0.866667</td>\n",
       "      <td>0.555556</td>\n",
       "      <td>0.777778</td>\n",
       "      <td>0.285714</td>\n",
       "      <td>1</td>\n",
       "    </tr>\n",
       "    <tr>\n",
       "      <th>3</th>\n",
       "      <td>0.741091</td>\n",
       "      <td>0.538286</td>\n",
       "      <td>0.412000</td>\n",
       "      <td>0.661333</td>\n",
       "      <td>0.451200</td>\n",
       "      <td>0.820444</td>\n",
       "      <td>0.085333</td>\n",
       "      <td>0.538286</td>\n",
       "      <td>3</td>\n",
       "    </tr>\n",
       "    <tr>\n",
       "      <th>4</th>\n",
       "      <td>0.056727</td>\n",
       "      <td>0.089143</td>\n",
       "      <td>0.919429</td>\n",
       "      <td>0.166400</td>\n",
       "      <td>0.949867</td>\n",
       "      <td>0.277333</td>\n",
       "      <td>0.916444</td>\n",
       "      <td>0.089143</td>\n",
       "      <td>0</td>\n",
       "    </tr>\n",
       "    <tr>\n",
       "      <th>...</th>\n",
       "      <td>...</td>\n",
       "      <td>...</td>\n",
       "      <td>...</td>\n",
       "      <td>...</td>\n",
       "      <td>...</td>\n",
       "      <td>...</td>\n",
       "      <td>...</td>\n",
       "      <td>...</td>\n",
       "      <td>...</td>\n",
       "    </tr>\n",
       "    <tr>\n",
       "      <th>625</th>\n",
       "      <td>0.447273</td>\n",
       "      <td>0.354286</td>\n",
       "      <td>0.568571</td>\n",
       "      <td>0.464000</td>\n",
       "      <td>0.597333</td>\n",
       "      <td>0.662222</td>\n",
       "      <td>0.382222</td>\n",
       "      <td>0.354286</td>\n",
       "      <td>2</td>\n",
       "    </tr>\n",
       "    <tr>\n",
       "      <th>626</th>\n",
       "      <td>0.062545</td>\n",
       "      <td>0.098286</td>\n",
       "      <td>0.933143</td>\n",
       "      <td>0.183467</td>\n",
       "      <td>0.958400</td>\n",
       "      <td>0.305778</td>\n",
       "      <td>0.930667</td>\n",
       "      <td>0.098286</td>\n",
       "      <td>0</td>\n",
       "    </tr>\n",
       "    <tr>\n",
       "      <th>627</th>\n",
       "      <td>0.954618</td>\n",
       "      <td>0.821714</td>\n",
       "      <td>0.134286</td>\n",
       "      <td>0.916800</td>\n",
       "      <td>0.150400</td>\n",
       "      <td>0.930667</td>\n",
       "      <td>0.000000</td>\n",
       "      <td>0.821714</td>\n",
       "      <td>4</td>\n",
       "    </tr>\n",
       "    <tr>\n",
       "      <th>628</th>\n",
       "      <td>0.248000</td>\n",
       "      <td>0.266286</td>\n",
       "      <td>0.766286</td>\n",
       "      <td>0.381867</td>\n",
       "      <td>0.839467</td>\n",
       "      <td>0.540444</td>\n",
       "      <td>0.747556</td>\n",
       "      <td>0.266286</td>\n",
       "      <td>1</td>\n",
       "    </tr>\n",
       "    <tr>\n",
       "      <th>629</th>\n",
       "      <td>0.525818</td>\n",
       "      <td>0.385143</td>\n",
       "      <td>0.599429</td>\n",
       "      <td>0.492800</td>\n",
       "      <td>0.626133</td>\n",
       "      <td>0.710222</td>\n",
       "      <td>0.454222</td>\n",
       "      <td>0.385143</td>\n",
       "      <td>2</td>\n",
       "    </tr>\n",
       "  </tbody>\n",
       "</table>\n",
       "<p>630 rows × 9 columns</p>\n",
       "</div>"
      ],
      "text/plain": [
       "     snoring rate  respiration rate  body temperature  limb movement  \\\n",
       "0        0.887273          0.691429          0.488571       0.840000   \n",
       "1        0.848000          0.650286          0.468000       0.792000   \n",
       "2        0.272727          0.285714          0.785714       0.400000   \n",
       "3        0.741091          0.538286          0.412000       0.661333   \n",
       "4        0.056727          0.089143          0.919429       0.166400   \n",
       "..            ...               ...               ...            ...   \n",
       "625      0.447273          0.354286          0.568571       0.464000   \n",
       "626      0.062545          0.098286          0.933143       0.183467   \n",
       "627      0.954618          0.821714          0.134286       0.916800   \n",
       "628      0.248000          0.266286          0.766286       0.381867   \n",
       "629      0.525818          0.385143          0.599429       0.492800   \n",
       "\n",
       "     blood oxygen  eye movement  sleeping hours  heart rate  stress level  \n",
       "0        0.522667      0.880000        0.204444    0.691429             3  \n",
       "1        0.503467      0.864000        0.172444    0.650286             3  \n",
       "2        0.866667      0.555556        0.777778    0.285714             1  \n",
       "3        0.451200      0.820444        0.085333    0.538286             3  \n",
       "4        0.949867      0.277333        0.916444    0.089143             0  \n",
       "..            ...           ...             ...         ...           ...  \n",
       "625      0.597333      0.662222        0.382222    0.354286             2  \n",
       "626      0.958400      0.305778        0.930667    0.098286             0  \n",
       "627      0.150400      0.930667        0.000000    0.821714             4  \n",
       "628      0.839467      0.540444        0.747556    0.266286             1  \n",
       "629      0.626133      0.710222        0.454222    0.385143             2  \n",
       "\n",
       "[630 rows x 9 columns]"
      ]
     },
     "execution_count": 14,
     "metadata": {},
     "output_type": "execute_result"
    }
   ],
   "source": [
    "newdf"
   ]
  },
  {
   "cell_type": "markdown",
   "id": "2752c5d0",
   "metadata": {},
   "source": [
    "### Statistical Summary (post-normalization)"
   ]
  },
  {
   "cell_type": "code",
   "execution_count": 15,
   "id": "49a67a0e",
   "metadata": {},
   "outputs": [
    {
     "data": {
      "text/html": [
       "<div>\n",
       "<style scoped>\n",
       "    .dataframe tbody tr th:only-of-type {\n",
       "        vertical-align: middle;\n",
       "    }\n",
       "\n",
       "    .dataframe tbody tr th {\n",
       "        vertical-align: top;\n",
       "    }\n",
       "\n",
       "    .dataframe thead th {\n",
       "        text-align: right;\n",
       "    }\n",
       "</style>\n",
       "<table border=\"1\" class=\"dataframe\">\n",
       "  <thead>\n",
       "    <tr style=\"text-align: right;\">\n",
       "      <th></th>\n",
       "      <th>snoring rate</th>\n",
       "      <th>respiration rate</th>\n",
       "      <th>body temperature</th>\n",
       "      <th>limb movement</th>\n",
       "      <th>blood oxygen</th>\n",
       "      <th>eye movement</th>\n",
       "      <th>sleeping hours</th>\n",
       "      <th>heart rate</th>\n",
       "      <th>stress level</th>\n",
       "    </tr>\n",
       "  </thead>\n",
       "  <tbody>\n",
       "    <tr>\n",
       "      <th>count</th>\n",
       "      <td>630.000000</td>\n",
       "      <td>630.000000</td>\n",
       "      <td>630.000000</td>\n",
       "      <td>630.000000</td>\n",
       "      <td>630.000000</td>\n",
       "      <td>630.000000</td>\n",
       "      <td>630.000000</td>\n",
       "      <td>630.000000</td>\n",
       "      <td>630.000000</td>\n",
       "    </tr>\n",
       "    <tr>\n",
       "      <th>mean</th>\n",
       "      <td>0.483636</td>\n",
       "      <td>0.414286</td>\n",
       "      <td>0.557143</td>\n",
       "      <td>0.513333</td>\n",
       "      <td>0.593333</td>\n",
       "      <td>0.633333</td>\n",
       "      <td>0.411111</td>\n",
       "      <td>0.414286</td>\n",
       "      <td>2.000000</td>\n",
       "    </tr>\n",
       "    <tr>\n",
       "      <th>std</th>\n",
       "      <td>0.352233</td>\n",
       "      <td>0.283294</td>\n",
       "      <td>0.252121</td>\n",
       "      <td>0.286642</td>\n",
       "      <td>0.260166</td>\n",
       "      <td>0.264305</td>\n",
       "      <td>0.339397</td>\n",
       "      <td>0.283294</td>\n",
       "      <td>1.415337</td>\n",
       "    </tr>\n",
       "    <tr>\n",
       "      <th>min</th>\n",
       "      <td>0.000000</td>\n",
       "      <td>0.000000</td>\n",
       "      <td>0.000000</td>\n",
       "      <td>0.000000</td>\n",
       "      <td>0.000000</td>\n",
       "      <td>0.000000</td>\n",
       "      <td>0.000000</td>\n",
       "      <td>0.000000</td>\n",
       "      <td>0.000000</td>\n",
       "    </tr>\n",
       "    <tr>\n",
       "      <th>25%</th>\n",
       "      <td>0.136364</td>\n",
       "      <td>0.178571</td>\n",
       "      <td>0.392857</td>\n",
       "      <td>0.300000</td>\n",
       "      <td>0.433333</td>\n",
       "      <td>0.472222</td>\n",
       "      <td>0.055556</td>\n",
       "      <td>0.178571</td>\n",
       "      <td>1.000000</td>\n",
       "    </tr>\n",
       "    <tr>\n",
       "      <th>50%</th>\n",
       "      <td>0.454545</td>\n",
       "      <td>0.357143</td>\n",
       "      <td>0.571429</td>\n",
       "      <td>0.466667</td>\n",
       "      <td>0.600000</td>\n",
       "      <td>0.666667</td>\n",
       "      <td>0.388889</td>\n",
       "      <td>0.357143</td>\n",
       "      <td>2.000000</td>\n",
       "    </tr>\n",
       "    <tr>\n",
       "      <th>75%</th>\n",
       "      <td>0.840909</td>\n",
       "      <td>0.642857</td>\n",
       "      <td>0.750000</td>\n",
       "      <td>0.783333</td>\n",
       "      <td>0.816667</td>\n",
       "      <td>0.861111</td>\n",
       "      <td>0.722222</td>\n",
       "      <td>0.642857</td>\n",
       "      <td>3.000000</td>\n",
       "    </tr>\n",
       "    <tr>\n",
       "      <th>max</th>\n",
       "      <td>1.000000</td>\n",
       "      <td>1.000000</td>\n",
       "      <td>1.000000</td>\n",
       "      <td>1.000000</td>\n",
       "      <td>1.000000</td>\n",
       "      <td>1.000000</td>\n",
       "      <td>1.000000</td>\n",
       "      <td>1.000000</td>\n",
       "      <td>4.000000</td>\n",
       "    </tr>\n",
       "  </tbody>\n",
       "</table>\n",
       "</div>"
      ],
      "text/plain": [
       "       snoring rate  respiration rate  body temperature  limb movement  \\\n",
       "count    630.000000        630.000000        630.000000     630.000000   \n",
       "mean       0.483636          0.414286          0.557143       0.513333   \n",
       "std        0.352233          0.283294          0.252121       0.286642   \n",
       "min        0.000000          0.000000          0.000000       0.000000   \n",
       "25%        0.136364          0.178571          0.392857       0.300000   \n",
       "50%        0.454545          0.357143          0.571429       0.466667   \n",
       "75%        0.840909          0.642857          0.750000       0.783333   \n",
       "max        1.000000          1.000000          1.000000       1.000000   \n",
       "\n",
       "       blood oxygen  eye movement  sleeping hours  heart rate  stress level  \n",
       "count    630.000000    630.000000      630.000000  630.000000    630.000000  \n",
       "mean       0.593333      0.633333        0.411111    0.414286      2.000000  \n",
       "std        0.260166      0.264305        0.339397    0.283294      1.415337  \n",
       "min        0.000000      0.000000        0.000000    0.000000      0.000000  \n",
       "25%        0.433333      0.472222        0.055556    0.178571      1.000000  \n",
       "50%        0.600000      0.666667        0.388889    0.357143      2.000000  \n",
       "75%        0.816667      0.861111        0.722222    0.642857      3.000000  \n",
       "max        1.000000      1.000000        1.000000    1.000000      4.000000  "
      ]
     },
     "execution_count": 15,
     "metadata": {},
     "output_type": "execute_result"
    }
   ],
   "source": [
    "newdf.describe()"
   ]
  },
  {
   "cell_type": "code",
   "execution_count": 16,
   "id": "163fb06f",
   "metadata": {
    "scrolled": false
   },
   "outputs": [
    {
     "data": {
      "text/plain": [
       "3    126\n",
       "1    126\n",
       "0    126\n",
       "2    126\n",
       "4    126\n",
       "Name: stress level, dtype: int64"
      ]
     },
     "execution_count": 16,
     "metadata": {},
     "output_type": "execute_result"
    }
   ],
   "source": [
    "newdf['stress level'].value_counts().sort_values()"
   ]
  },
  {
   "cell_type": "markdown",
   "id": "7797ebdb",
   "metadata": {},
   "source": [
    "The data is equally distributed among all the stress levels"
   ]
  },
  {
   "cell_type": "code",
   "execution_count": 17,
   "id": "923c284a",
   "metadata": {},
   "outputs": [
    {
     "data": {
      "image/png": "[encoded data removed]",
      "text/plain": [
       "<Figure size 432x288 with 1 Axes>"
      ]
     },
     "metadata": {},
     "output_type": "display_data"
    }
   ],
   "source": [
    "#plotting a pie chart to show the distribution of data\n",
    "label = ['low/normal' , 'medium low' , 'medium' ,'medium low','high']\n",
    "ex=[0.1,0,0,0,0.1]\n",
    "plt.pie(newdf['stress level'].value_counts(),labels=label,autopct='%.0f%%',explode=ex,shadow=True)\n",
    "plt.show()"
   ]
  },
  {
   "cell_type": "markdown",
   "id": "3806bd20",
   "metadata": {},
   "source": [
    "### Checking for correlation"
   ]
  },
  {
   "cell_type": "code",
   "execution_count": 18,
   "id": "7c289d40",
   "metadata": {},
   "outputs": [
    {
     "data": {
      "text/plain": [
       "snoring rate        0.975322\n",
       "respiration rate    0.963516\n",
       "body temperature   -0.962354\n",
       "limb movement       0.971071\n",
       "blood oxygen       -0.961092\n",
       "eye movement        0.951988\n",
       "sleeping hours     -0.973036\n",
       "heart rate          0.963516\n",
       "stress level        1.000000\n",
       "dtype: float64"
      ]
     },
     "execution_count": 18,
     "metadata": {},
     "output_type": "execute_result"
    }
   ],
   "source": [
    "newdf.corrwith(newdf['stress level'], method = 'pearson')"
   ]
  },
  {
   "cell_type": "code",
   "execution_count": 19,
   "id": "0733da5d",
   "metadata": {},
   "outputs": [
    {
     "data": {
      "text/plain": [
       "<AxesSubplot:>"
      ]
     },
     "execution_count": 19,
     "metadata": {},
     "output_type": "execute_result"
    },
    {
     "data": {
      "image/png": "[encoded data removed]",
      "text/plain": [
       "<Figure size 720x432 with 2 Axes>"
      ]
     },
     "metadata": {
      "needs_background": "light"
     },
     "output_type": "display_data"
    }
   ],
   "source": [
    "plt.figure(figsize=(10,6))\n",
    "sns.heatmap(newdf.corr(),annot=True)"
   ]
  },
  {
   "cell_type": "markdown",
   "id": "ec096330",
   "metadata": {},
   "source": [
    "All the features have high correlation with the target variable."
   ]
  },
  {
   "cell_type": "markdown",
   "id": "a47bee10",
   "metadata": {},
   "source": [
    "# Model Training"
   ]
  },
  {
   "cell_type": "markdown",
   "id": "ea607ef8",
   "metadata": {},
   "source": [
    "### Importing the Models"
   ]
  },
  {
   "cell_type": "code",
   "execution_count": 20,
   "id": "802b7b18",
   "metadata": {},
   "outputs": [],
   "source": [
    "from sklearn.model_selection import train_test_split as tts\n",
    "from sklearn import metrics\n",
    "from sklearn.linear_model import LogisticRegression\n",
    "from sklearn.neighbors import KNeighborsClassifier as kn\n",
    "from sklearn.model_selection import GridSearchCV as gscv\n",
    "from sklearn.naive_bayes import GaussianNB\n",
    "from xgboost import XGBClassifier\n",
    "from sklearn.tree import DecisionTreeClassifier\n",
    "from sklearn.ensemble import RandomForestClassifier\n",
    "from sklearn.model_selection import cross_val_score as cvs\n",
    "from sklearn.metrics import confusion_matrix\n",
    "from sklearn.metrics import precision_score, recall_score, f1_score, accuracy_score"
   ]
  },
  {
   "cell_type": "markdown",
   "id": "f770cdc6",
   "metadata": {},
   "source": [
    "### Splitting the Dataset"
   ]
  },
  {
   "cell_type": "code",
   "execution_count": 21,
   "id": "acb9bd95",
   "metadata": {},
   "outputs": [
    {
     "name": "stdout",
     "output_type": "stream",
     "text": [
      "Dimensions of train dataset: (378, 8)\n",
      "Dimensions of test dataset: (252, 8)\n"
     ]
    }
   ],
   "source": [
    "#splitting among features and target\n",
    "\n",
    "#complete data set\n",
    "X = newdf[['snoring rate', 'respiration rate', 'body temperature', 'limb movement',\n",
    "       'blood oxygen', 'eye movement', 'sleeping hours', 'heart rate']]\n",
    "y = newdf['stress level']\n",
    "\n",
    "#splitting among test and train dataset\n",
    "x_train, x_test, y_train, y_test= tts(X, y, test_size=0.4)\n",
    "print('Dimensions of train dataset:',x_train.shape)\n",
    "print('Dimensions of test dataset:',x_test.shape)\n",
    "\n",
    "#defining dictionaries for storing results of different models and comparing \n",
    "sc = {}\n",
    "rn = {}\n",
    "rd = {}"
   ]
  },
  {
   "cell_type": "markdown",
   "id": "50cb0c2f",
   "metadata": {},
   "source": [
    "## Logistic Regression"
   ]
  },
  {
   "cell_type": "code",
   "execution_count": 22,
   "id": "3241a976",
   "metadata": {},
   "outputs": [
    {
     "name": "stdout",
     "output_type": "stream",
     "text": [
      "accuracy_score: 1.0\n",
      "cross val score: 1.0\n"
     ]
    }
   ],
   "source": [
    "lrr=LogisticRegression()\n",
    "lrr.fit(x_train,y_train)\n",
    "lrr_pred=lrr.predict(x_test)\n",
    "print('accuracy_score:',metrics.accuracy_score(y_test, lrr_pred))\n",
    "\n",
    "r=cvs(lrr, X, y, cv=10, scoring='accuracy').mean()\n",
    "sc['Logistic Regression']=r\n",
    "rn['Logistic Regression']=np.array(np.unique(lrr_pred, return_counts=True))\n",
    "print('cross val score:',r)"
   ]
  },
  {
   "cell_type": "code",
   "execution_count": 23,
   "id": "175418f6",
   "metadata": {
    "scrolled": true
   },
   "outputs": [
    {
     "data": {
      "image/png": "[encoded data removed]",
      "text/plain": [
       "<Figure size 360x360 with 1 Axes>"
      ]
     },
     "metadata": {
      "needs_background": "light"
     },
     "output_type": "display_data"
    }
   ],
   "source": [
    "# Calculate the confusion matrix\n",
    "conf_matrix = confusion_matrix(y_true=y_test, y_pred=lrr_pred)\n",
    "\n",
    "# Print the confusion matrix using Matplotlib\n",
    "\n",
    "fig, ax = plt.subplots(figsize=(5, 5))\n",
    "ax.matshow(conf_matrix, cmap=plt.cm.Oranges, alpha=0.3)\n",
    "for i in range(conf_matrix.shape[0]):\n",
    "    for j in range(conf_matrix.shape[1]):\n",
    "        ax.text(x=j, y=i,s=conf_matrix[i, j], va='center', ha='center', size='xx-large')\n",
    " \n",
    "plt.xlabel('Predictions', fontsize=18)\n",
    "plt.ylabel('Actuals', fontsize=18)\n",
    "plt.title('Confusion Matrix', fontsize=18)\n",
    "plt.show()"
   ]
  },
  {
   "cell_type": "code",
   "execution_count": 24,
   "id": "e13bffe1",
   "metadata": {},
   "outputs": [
    {
     "name": "stdout",
     "output_type": "stream",
     "text": [
      "Precision: 1.000\n",
      "Recall: 1.000\n",
      "Accuracy: 1.000\n",
      "F1 Score: 1.000\n"
     ]
    }
   ],
   "source": [
    "print('Precision: %.3f' % precision_score(y_test, lrr_pred, average='weighted'))\n",
    "print('Recall: %.3f' % recall_score(y_test, lrr_pred, average='weighted'))\n",
    "print('Accuracy: %.3f' % accuracy_score(y_test, lrr_pred))\n",
    "print('F1 Score: %.3f' % f1_score(y_test, lrr_pred, average='weighted'))\n",
    "\n",
    "base = {}\n",
    "base['Precision']=precision_score(y_test, lrr_pred, average='weighted')\n",
    "base['Recall']=recall_score(y_test, lrr_pred, average='weighted')\n",
    "base['Accuracy']=accuracy_score(y_test, lrr_pred)\n",
    "base['F1 Score']=f1_score(y_test, lrr_pred, average='weighted')\n",
    "rd['Logistic Regression'] = base"
   ]
  },
  {
   "cell_type": "markdown",
   "id": "5e2ead81",
   "metadata": {},
   "source": [
    "## K-Neighbors Classification"
   ]
  },
  {
   "cell_type": "code",
   "execution_count": 25,
   "id": "492fb28b",
   "metadata": {
    "scrolled": true
   },
   "outputs": [
    {
     "name": "stdout",
     "output_type": "stream",
     "text": [
      "{'n_neighbors': range(1, 35), 'weights': ['uniform', 'distance']}\n",
      "grid.best_score_ : 1.0 \n",
      "grid.best_params_ : {'n_neighbors': 1, 'weights': 'uniform'}\n"
     ]
    }
   ],
   "source": [
    "knn=kn(n_neighbors=5)\n",
    "kr=range(1, 35)\n",
    "weight_options=['uniform', 'distance']\n",
    "param_grid=dict(n_neighbors=kr, weights=weight_options)\n",
    "print(param_grid)\n",
    "grid=gscv(knn, param_grid, cv=10, scoring='accuracy')\n",
    "grid.fit(X, y)\n",
    "\n",
    "sc['K-Nearest Neighbors']=grid.best_score_\n",
    "print(\"grid.best_score_ :\",grid.best_score_,\n",
    "      '\\ngrid.best_params_ :',grid.best_params_)"
   ]
  },
  {
   "cell_type": "markdown",
   "id": "241b75d8",
   "metadata": {},
   "source": [
    "## Naive Bayes"
   ]
  },
  {
   "cell_type": "code",
   "execution_count": 26,
   "id": "cbda81ff",
   "metadata": {},
   "outputs": [
    {
     "name": "stdout",
     "output_type": "stream",
     "text": [
      "accuracy_score 1.0\n"
     ]
    }
   ],
   "source": [
    "from sklearn.naive_bayes import GaussianNB\n",
    "nb = GaussianNB()\n",
    "nb.fit(x_train,y_train)\n",
    "nb_pred=nb.predict(x_test)\n",
    "print(\"accuracy_score\",metrics.accuracy_score(y_test, nb_pred))\n",
    "sc['Naive Bayes']=metrics.accuracy_score(y_test, nb_pred)\n",
    "rn['Naive Bayes']=np.array(np.unique(nb_pred, return_counts=True))"
   ]
  },
  {
   "cell_type": "code",
   "execution_count": 27,
   "id": "2cc6345e",
   "metadata": {},
   "outputs": [
    {
     "data": {
      "image/png": "[encoded data removed]",
      "text/plain": [
       "<Figure size 360x360 with 1 Axes>"
      ]
     },
     "metadata": {
      "needs_background": "light"
     },
     "output_type": "display_data"
    }
   ],
   "source": [
    "# Calculate the confusion matrix\n",
    "conf_matrix = confusion_matrix(y_true=y_test, y_pred=nb_pred)\n",
    "\n",
    "# Print the confusion matrix using Matplotlib\n",
    "\n",
    "fig, ax = plt.subplots(figsize=(5, 5))\n",
    "ax.matshow(conf_matrix, cmap=plt.cm.Oranges, alpha=0.3)\n",
    "for i in range(conf_matrix.shape[0]):\n",
    "    for j in range(conf_matrix.shape[1]):\n",
    "        ax.text(x=j, y=i,s=conf_matrix[i, j], va='center', ha='center', size='xx-large')\n",
    " \n",
    "plt.xlabel('Predictions', fontsize=18)\n",
    "plt.ylabel('Actuals', fontsize=18)\n",
    "plt.title('Confusion Matrix', fontsize=18)\n",
    "plt.show()"
   ]
  },
  {
   "cell_type": "code",
   "execution_count": 28,
   "id": "6181fcf0",
   "metadata": {},
   "outputs": [
    {
     "name": "stdout",
     "output_type": "stream",
     "text": [
      "Precision: 1.000\n",
      "Recall: 1.000\n",
      "Accuracy: 1.000\n",
      "F1 Score: 1.000\n"
     ]
    }
   ],
   "source": [
    "print('Precision: %.3f' % precision_score(y_test, nb_pred, average='weighted'))\n",
    "print('Recall: %.3f' % recall_score(y_test, nb_pred, average='weighted'))\n",
    "print('Accuracy: %.3f' % accuracy_score(y_test, nb_pred))\n",
    "print('F1 Score: %.3f' % f1_score(y_test, nb_pred, average='weighted'))\n",
    "\n",
    "base = {}\n",
    "base['Precision']=precision_score(y_test, nb_pred, average='weighted')\n",
    "base['Recall']=recall_score(y_test, nb_pred, average='weighted')\n",
    "base['Accuracy']=accuracy_score(y_test, nb_pred)\n",
    "base['F1 Score']=f1_score(y_test, nb_pred, average='weighted')\n",
    "rd['Naive Bayes'] = base"
   ]
  },
  {
   "cell_type": "markdown",
   "id": "4cbb17c8",
   "metadata": {},
   "source": [
    "## XGB Classifier"
   ]
  },
  {
   "cell_type": "code",
   "execution_count": 29,
   "id": "cb085a6d",
   "metadata": {},
   "outputs": [
    {
     "name": "stdout",
     "output_type": "stream",
     "text": [
      "accuracy_score 0.9801587301587301\n"
     ]
    },
    {
     "name": "stderr",
     "output_type": "stream",
     "text": [
      "c:\\users\\dhrub\\appdata\\local\\programs\\python\\python39\\lib\\site-packages\\xgboost\\sklearn.py:1146: UserWarning: The use of label encoder in XGBClassifier is deprecated and will be removed in a future release. To remove this warning, do the following: 1) Pass option use_label_encoder=False when constructing XGBClassifier object; and 2) Encode your labels (y) as integers starting with 0, i.e. 0, 1, 2, ..., [num_class - 1].\n",
      "  warnings.warn(label_encoder_deprecation_msg, UserWarning)\n"
     ]
    }
   ],
   "source": [
    "from xgboost import XGBClassifier\n",
    "XGB = XGBClassifier()\n",
    "XGB.fit(x_train,y_train,eval_metric='auc')\n",
    "xgb_pred=XGB.predict(x_test)\n",
    "print(\"accuracy_score\",metrics.accuracy_score(y_test, xgb_pred))\n",
    "sc['XGB Classifier']=metrics.accuracy_score(y_test, xgb_pred)\n",
    "rn['XGB Classifier']=np.array(np.unique(xgb_pred, return_counts=True))"
   ]
  },
  {
   "cell_type": "code",
   "execution_count": 30,
   "id": "af5e0b1b",
   "metadata": {},
   "outputs": [
    {
     "data": {
      "image/png": "[encoded data removed]",
      "text/plain": [
       "<Figure size 360x360 with 1 Axes>"
      ]
     },
     "metadata": {
      "needs_background": "light"
     },
     "output_type": "display_data"
    }
   ],
   "source": [
    "# Calculate the confusion matrix\n",
    "conf_matrix = confusion_matrix(y_true=y_test, y_pred=xgb_pred)\n",
    "\n",
    "# Print the confusion matrix using Matplotlib\n",
    "\n",
    "fig, ax = plt.subplots(figsize=(5, 5))\n",
    "ax.matshow(conf_matrix, cmap=plt.cm.Oranges, alpha=0.3)\n",
    "for i in range(conf_matrix.shape[0]):\n",
    "    for j in range(conf_matrix.shape[1]):\n",
    "        ax.text(x=j, y=i,s=conf_matrix[i, j], va='center', ha='center', size='xx-large')\n",
    " \n",
    "plt.xlabel('Predictions', fontsize=18)\n",
    "plt.ylabel('Actuals', fontsize=18)\n",
    "plt.title('Confusion Matrix', fontsize=18)\n",
    "plt.show()"
   ]
  },
  {
   "cell_type": "code",
   "execution_count": 31,
   "id": "d51960be",
   "metadata": {},
   "outputs": [
    {
     "name": "stdout",
     "output_type": "stream",
     "text": [
      "Precision: 0.981\n",
      "Recall: 0.980\n",
      "Accuracy: 0.980\n",
      "F1 Score: 0.980\n"
     ]
    }
   ],
   "source": [
    "print('Precision: %.3f' % precision_score(y_test, xgb_pred, average='weighted'))\n",
    "print('Recall: %.3f' % recall_score(y_test, xgb_pred, average='weighted'))\n",
    "print('Accuracy: %.3f' % accuracy_score(y_test, xgb_pred))\n",
    "print('F1 Score: %.3f' % f1_score(y_test, xgb_pred, average='weighted'))\n",
    "\n",
    "base = {}\n",
    "base['Precision']=precision_score(y_test, xgb_pred, average='weighted')\n",
    "base['Recall']=recall_score(y_test, xgb_pred, average='weighted')\n",
    "base['Accuracy']=accuracy_score(y_test, xgb_pred)\n",
    "base['F1 Score']=f1_score(y_test, xgb_pred, average='weighted')\n",
    "rd['XGB Classifier'] = base"
   ]
  },
  {
   "cell_type": "markdown",
   "id": "fd4c7c89",
   "metadata": {},
   "source": [
    "## Decision Trees Classifier"
   ]
  },
  {
   "cell_type": "code",
   "execution_count": 32,
   "id": "a7d3c901",
   "metadata": {},
   "outputs": [
    {
     "name": "stdout",
     "output_type": "stream",
     "text": [
      "accuracy_score 0.9722222222222222\n"
     ]
    }
   ],
   "source": [
    "from sklearn.tree import DecisionTreeClassifier\n",
    "dtree = DecisionTreeClassifier(max_depth=20)\n",
    "dtree.fit(x_train,y_train)\n",
    "dtree_pred=dtree.predict(x_test)\n",
    "print(\"accuracy_score\",metrics.accuracy_score(y_test, dtree_pred))\n",
    "sc['Decision Trees']=metrics.accuracy_score(y_test, dtree_pred)\n",
    "rn['Decision Trees']=np.array(np.unique(dtree_pred, return_counts=True))"
   ]
  },
  {
   "cell_type": "code",
   "execution_count": 33,
   "id": "aee516ff",
   "metadata": {},
   "outputs": [
    {
     "data": {
      "image/png": "[encoded data removed]",
      "text/plain": [
       "<Figure size 360x360 with 1 Axes>"
      ]
     },
     "metadata": {
      "needs_background": "light"
     },
     "output_type": "display_data"
    }
   ],
   "source": [
    "# Calculate the confusion matrix\n",
    "conf_matrix = confusion_matrix(y_true=y_test, y_pred=dtree_pred)\n",
    "\n",
    "# Print the confusion matrix using Matplotlib\n",
    "\n",
    "fig, ax = plt.subplots(figsize=(5, 5))\n",
    "ax.matshow(conf_matrix, cmap=plt.cm.Oranges, alpha=0.3)\n",
    "for i in range(conf_matrix.shape[0]):\n",
    "    for j in range(conf_matrix.shape[1]):\n",
    "        ax.text(x=j, y=i,s=conf_matrix[i, j], va='center', ha='center', size='xx-large')\n",
    " \n",
    "plt.xlabel('Predictions', fontsize=18)\n",
    "plt.ylabel('Actuals', fontsize=18)\n",
    "plt.title('Confusion Matrix', fontsize=18)\n",
    "plt.show()"
   ]
  },
  {
   "cell_type": "code",
   "execution_count": 34,
   "id": "7bbc3efa",
   "metadata": {},
   "outputs": [
    {
     "name": "stdout",
     "output_type": "stream",
     "text": [
      "Precision: 0.973\n",
      "Recall: 0.972\n",
      "Accuracy: 0.972\n",
      "F1 Score: 0.972\n"
     ]
    }
   ],
   "source": [
    "print('Precision: %.3f' % precision_score(y_test, dtree_pred, average='weighted'))\n",
    "print('Recall: %.3f' % recall_score(y_test, dtree_pred, average='weighted'))\n",
    "print('Accuracy: %.3f' % accuracy_score(y_test, dtree_pred))\n",
    "print('F1 Score: %.3f' % f1_score(y_test, dtree_pred, average='weighted'))\n",
    "\n",
    "base = {}\n",
    "base['Precision']=precision_score(y_test, dtree_pred, average='weighted')\n",
    "base['Recall']=recall_score(y_test, dtree_pred, average='weighted')\n",
    "base['Accuracy']=accuracy_score(y_test, dtree_pred)\n",
    "base['F1 Score']=f1_score(y_test, dtree_pred, average='weighted')\n",
    "rd['Decision Tree'] = base"
   ]
  },
  {
   "cell_type": "markdown",
   "id": "71252587",
   "metadata": {},
   "source": [
    "## Random Forest Classifier"
   ]
  },
  {
   "cell_type": "code",
   "execution_count": 35,
   "id": "0dce247a",
   "metadata": {},
   "outputs": [
    {
     "name": "stdout",
     "output_type": "stream",
     "text": [
      "accuracy_score 0.9880952380952381\n"
     ]
    }
   ],
   "source": [
    "from sklearn.ensemble import RandomForestClassifier\n",
    "rfm = RandomForestClassifier(n_estimators = 50)\n",
    "rfm.fit(x_train,y_train)\n",
    "rfm_pred=rfm.predict(x_test)\n",
    "print(\"accuracy_score\",metrics.accuracy_score(y_test, rfm_pred))\n",
    "sc['Random Forest']=metrics.accuracy_score(y_test, rfm_pred)\n",
    "rn['Random Forest']=np.array(np.unique(rfm_pred, return_counts=True))"
   ]
  },
  {
   "cell_type": "code",
   "execution_count": 36,
   "id": "dcb494b7",
   "metadata": {},
   "outputs": [
    {
     "data": {
      "image/png": "[encoded data removed]",
      "text/plain": [
       "<Figure size 360x360 with 1 Axes>"
      ]
     },
     "metadata": {
      "needs_background": "light"
     },
     "output_type": "display_data"
    }
   ],
   "source": [
    "# Calculate the confusion matrix\n",
    "conf_matrix = confusion_matrix(y_true=y_test, y_pred=rfm_pred)\n",
    "\n",
    "# Print the confusion matrix using Matplotlib\n",
    "\n",
    "fig, ax = plt.subplots(figsize=(5, 5))\n",
    "ax.matshow(conf_matrix, cmap=plt.cm.Oranges, alpha=0.3)\n",
    "for i in range(conf_matrix.shape[0]):\n",
    "    for j in range(conf_matrix.shape[1]):\n",
    "        ax.text(x=j, y=i,s=conf_matrix[i, j], va='center', ha='center', size='xx-large')\n",
    " \n",
    "plt.xlabel('Predictions', fontsize=18)\n",
    "plt.ylabel('Actuals', fontsize=18)\n",
    "plt.title('Confusion Matrix', fontsize=18)\n",
    "plt.show()"
   ]
  },
  {
   "cell_type": "code",
   "execution_count": 37,
   "id": "dd81315d",
   "metadata": {},
   "outputs": [
    {
     "name": "stdout",
     "output_type": "stream",
     "text": [
      "Precision: 0.989\n",
      "Recall: 0.988\n",
      "Accuracy: 0.988\n",
      "F1 Score: 0.988\n"
     ]
    }
   ],
   "source": [
    "print('Precision: %.3f' % precision_score(y_test, rfm_pred, average='weighted'))\n",
    "print('Recall: %.3f' % recall_score(y_test, rfm_pred, average='weighted'))\n",
    "print('Accuracy: %.3f' % accuracy_score(y_test, rfm_pred))\n",
    "print('F1 Score: %.3f' % f1_score(y_test, rfm_pred, average='weighted'))\n",
    "\n",
    "base = {}\n",
    "base['Precision']=precision_score(y_test, rfm_pred, average='weighted')\n",
    "base['Recall']=recall_score(y_test, rfm_pred, average='weighted')\n",
    "base['Accuracy']=accuracy_score(y_test, rfm_pred)\n",
    "base['F1 Score']=f1_score(y_test, rfm_pred, average='weighted')\n",
    "rd['Random Forest Classifier'] = base"
   ]
  },
  {
   "cell_type": "code",
   "execution_count": 38,
   "id": "60cd60f0",
   "metadata": {},
   "outputs": [
    {
     "data": {
      "text/plain": [
       "{'Logistic Regression': 1.0,\n",
       " 'K-Nearest Neighbors': 1.0,\n",
       " 'Naive Bayes': 1.0,\n",
       " 'XGB Classifier': 0.9801587301587301,\n",
       " 'Decision Trees': 0.9722222222222222,\n",
       " 'Random Forest': 0.9880952380952381}"
      ]
     },
     "execution_count": 38,
     "metadata": {},
     "output_type": "execute_result"
    }
   ],
   "source": [
    "sc"
   ]
  },
  {
   "cell_type": "code",
   "execution_count": 39,
   "id": "157b8495",
   "metadata": {
    "scrolled": true
   },
   "outputs": [
    {
     "data": {
      "text/plain": [
       "{'Logistic Regression': array([[ 0,  1,  2,  3,  4],\n",
       "        [59, 46, 49, 46, 52]], dtype=int64),\n",
       " 'Naive Bayes': array([[ 0,  1,  2,  3,  4],\n",
       "        [59, 46, 49, 46, 52]], dtype=int64),\n",
       " 'XGB Classifier': array([[ 0,  1,  2,  3,  4],\n",
       "        [61, 43, 52, 44, 52]], dtype=int64),\n",
       " 'Decision Trees': array([[ 0,  1,  2,  3,  4],\n",
       "        [57, 47, 51, 42, 55]], dtype=int64),\n",
       " 'Random Forest': array([[ 0,  1,  2,  3,  4],\n",
       "        [59, 45, 52, 44, 52]], dtype=int64)}"
      ]
     },
     "execution_count": 39,
     "metadata": {},
     "output_type": "execute_result"
    }
   ],
   "source": [
    "rn"
   ]
  },
  {
   "cell_type": "code",
   "execution_count": 40,
   "id": "9e021d66",
   "metadata": {},
   "outputs": [
    {
     "data": {
      "text/plain": [
       "{'Logistic Regression': {'Precision': 1.0,\n",
       "  'Recall': 1.0,\n",
       "  'Accuracy': 1.0,\n",
       "  'F1 Score': 1.0},\n",
       " 'Naive Bayes': {'Precision': 1.0,\n",
       "  'Recall': 1.0,\n",
       "  'Accuracy': 1.0,\n",
       "  'F1 Score': 1.0},\n",
       " 'XGB Classifier': {'Precision': 0.9811057567205108,\n",
       "  'Recall': 0.9801587301587301,\n",
       "  'Accuracy': 0.9801587301587301,\n",
       "  'F1 Score': 0.9801128456434014},\n",
       " 'Decision Tree': {'Precision': 0.9733516703479157,\n",
       "  'Recall': 0.9722222222222222,\n",
       "  'Accuracy': 0.9722222222222222,\n",
       "  'F1 Score': 0.9721033120508134},\n",
       " 'Random Forest Classifier': {'Precision': 0.9887820512820512,\n",
       "  'Recall': 0.9880952380952381,\n",
       "  'Accuracy': 0.9880952380952381,\n",
       "  'F1 Score': 0.9881620544751142}}"
      ]
     },
     "execution_count": 40,
     "metadata": {},
     "output_type": "execute_result"
    }
   ],
   "source": [
    "rd"
   ]
  },
  {
   "cell_type": "code",
   "execution_count": null,
   "id": "dccac014",
   "metadata": {},
   "outputs": [],
   "source": []
  }
 ],
 "metadata": {
  "kernelspec": {
   "display_name": "Python 3 (ipykernel)",
   "language": "python",
   "name": "python3"
  },
  "language_info": {
   "codemirror_mode": {
    "name": "ipython",
    "version": 3
   },
   "file_extension": ".py",
   "mimetype": "text/x-python",
   "name": "python",
   "nbconvert_exporter": "python",
   "pygments_lexer": "ipython3",
   "version": "3.9.5"
  }
 },
 "nbformat": 4,
 "nbformat_minor": 5
}
